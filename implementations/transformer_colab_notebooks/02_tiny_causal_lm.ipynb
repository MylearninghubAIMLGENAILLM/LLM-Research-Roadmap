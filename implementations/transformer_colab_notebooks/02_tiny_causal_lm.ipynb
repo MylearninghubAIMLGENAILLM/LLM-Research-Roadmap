{
 "cells": [
  {
   "cell_type": "markdown",
   "id": "30583a7f",
   "metadata": {},
   "source": [
    "Train a tiny GPT-style LM from scratch on WikiText-2"
   ]
  },
  {
   "cell_type": "code",
   "execution_count": null,
   "id": "2c00da50",
   "metadata": {},
   "outputs": [],
   "source": [
    "from src.train_causal_lm import main\n"
   ]
  },
  {
   "cell_type": "code",
   "execution_count": null,
   "id": "8e7ebc30",
   "metadata": {},
   "outputs": [],
   "source": [
    "main(max_steps=1000, eval_steps=200, save_steps=500)"
   ]
  }
 ],
 "metadata": {},
 "nbformat": 4,
 "nbformat_minor": 5
}
