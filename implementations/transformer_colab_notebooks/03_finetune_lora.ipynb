{
 "cells": [
  {
   "cell_type": "markdown",
   "id": "6240336d",
   "metadata": {},
   "source": [
    "Fine-tune a pretrained model with LoRA/QLoRA"
   ]
  },
  {
   "cell_type": "code",
   "execution_count": null,
   "id": "9af09fa6",
   "metadata": {},
   "outputs": [],
   "source": [
    "from src.finetune_lora import main\n"
   ]
  },
  {
   "cell_type": "code",
   "execution_count": null,
   "id": "3ada0dd3",
   "metadata": {},
   "outputs": [],
   "source": [
    "main(base_model='distilgpt2', bits=4, max_steps=600, eval_steps=200)"
   ]
  }
 ],
 "metadata": {},
 "nbformat": 4,
 "nbformat_minor": 5
}
