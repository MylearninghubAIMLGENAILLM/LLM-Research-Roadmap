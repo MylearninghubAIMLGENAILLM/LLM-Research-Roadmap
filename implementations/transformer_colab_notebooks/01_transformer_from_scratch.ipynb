{
 "cells": [
  {
   "cell_type": "markdown",
   "id": "1b3cfb46",
   "metadata": {},
   "source": [
    "Train a small Transformer encoder-decoder on a copy task"
   ]
  },
  {
   "cell_type": "code",
   "execution_count": null,
   "id": "ac3d219b",
   "metadata": {},
   "outputs": [],
   "source": [
    "from src.train_transformer_scratch import main\n"
   ]
  },
  {
   "cell_type": "code",
   "execution_count": null,
   "id": "a8fe5617",
   "metadata": {},
   "outputs": [],
   "source": [
    "main(max_steps=500, d_model=128, nhead=4, num_layers=2)"
   ]
  }
 ],
 "metadata": {},
 "nbformat": 4,
 "nbformat_minor": 5
}
