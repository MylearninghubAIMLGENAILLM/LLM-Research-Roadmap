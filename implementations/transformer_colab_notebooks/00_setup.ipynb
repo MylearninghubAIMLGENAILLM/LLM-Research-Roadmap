{
 "cells": [
  {
   "cell_type": "markdown",
   "id": "0ab83f79",
   "metadata": {},
   "source": [
    "Install dependencies"
   ]
  },
  {
   "cell_type": "code",
   "execution_count": null,
   "id": "42cc0527",
   "metadata": {},
   "outputs": [],
   "source": [
    "!pip -q install torch==2.3.1 torchvision --index-url https://download.pytorch.org/whl/cu121\n"
   ]
  },
  {
   "cell_type": "code",
   "execution_count": null,
   "id": "ec259a4c",
   "metadata": {},
   "outputs": [],
   "source": [
    "!pip -q install transformers datasets accelerate peft bitsandbytes wandb sentencepiece tokenizers==0.15.2\n"
   ]
  }
 ],
 "metadata": {},
 "nbformat": 4,
 "nbformat_minor": 5
}
