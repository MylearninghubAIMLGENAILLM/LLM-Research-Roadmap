{
 "cells": [
  {
   "cell_type": "markdown",
   "id": "f53ea531",
   "metadata": {},
   "source": [
    "Evaluate perplexity of trained/fine-tuned model"
   ]
  },
  {
   "cell_type": "code",
   "execution_count": null,
   "id": "8840d5a7",
   "metadata": {},
   "outputs": [],
   "source": [
    "from src.evaluate import main\n"
   ]
  },
  {
   "cell_type": "code",
   "execution_count": null,
   "id": "fb900eed",
   "metadata": {},
   "outputs": [],
   "source": [
    "main(model_path='outputs/causal_lm', split='validation')"
   ]
  }
 ],
 "metadata": {},
 "nbformat": 4,
 "nbformat_minor": 5
}
